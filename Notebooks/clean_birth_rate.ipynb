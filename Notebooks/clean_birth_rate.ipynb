{
 "cells": [
  {
   "cell_type": "code",
   "execution_count": 1,
   "metadata": {},
   "outputs": [],
   "source": [
    "import pandas as pd\n",
    "import numpy as np\n",
    "#import matplotlib.pyplot as plt\n",
    "\n",
    "# Read the data from the CSV file\n",
    "data = pd.read_csv('../Data/Cleaned_Births.csv')\n",
    "\n",
    "# Define the specific states you want to plot\n",
    "states = ['Alabama', 'Delaware']"
   ]
  },
  {
   "cell_type": "code",
   "execution_count": 1,
   "metadata": {},
   "outputs": [
    {
     "name": "stdout",
     "output_type": "stream",
     "text": [
      "CSV file successfully loaded.\n",
      "Columns successfully removed.\n",
      "Cleaned data saved as 'Cleaned_Births.csv'.\n"
     ]
    }
   ],
   "source": [
    "import sys\n",
    "sys.path.append('../src')\n",
    "\n",
    "from birth_rate import US_Births\n",
    "\n",
    "file_path = '../Data/us_births_2016_2021.csv'\n",
    "data_processor = US_Births(file_path)\n",
    "data_processor.read_csv()\n",
    "\n",
    "\n",
    "columns_to_remove = ['State Abbreviation', 'Average Birth Weight (g)', 'Gender']\n",
    "data_processor.remove_columns(columns_to_remove)\n",
    "\n",
    "cleaned_data = data_processor.get_data()\n",
    "cleaned_data.to_csv('../Data/Cleaned_Births.csv', index=False)\n",
    "print(\"Cleaned data saved as 'Cleaned_Births.csv'.\")\n"
   ]
  }
 ],
 "metadata": {
  "kernelspec": {
   "display_name": "base",
   "language": "python",
   "name": "python3"
  },
  "language_info": {
   "codemirror_mode": {
    "name": "ipython",
    "version": 3
   },
   "file_extension": ".py",
   "mimetype": "text/x-python",
   "name": "python",
   "nbconvert_exporter": "python",
   "pygments_lexer": "ipython3",
   "version": "3.10.9"
  },
  "orig_nbformat": 4
 },
 "nbformat": 4,
 "nbformat_minor": 2
}
