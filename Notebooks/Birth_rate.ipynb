{
 "cells": [
  {
   "cell_type": "code",
   "execution_count": null,
   "metadata": {},
   "outputs": [],
   "source": [
    "import pandas as pd\n",
    "import numpy as np\n"
   ]
  },
  {
   "cell_type": "code",
   "execution_count": 3,
   "metadata": {},
   "outputs": [],
   "source": [
    "births = pd.read_csv(\"../Data/us_births_2016_2021.csv\")"
   ]
  },
  {
   "cell_type": "code",
   "execution_count": 10,
   "metadata": {},
   "outputs": [
    {
     "name": "stdout",
     "output_type": "stream",
     "text": [
      "5496\n"
     ]
    }
   ],
   "source": [
    "def births_rows(births):\n",
    "    row_count = births.shape[0]\n",
    "    \"\"\"\n",
    "    returns a single number\n",
    "    \"\"\"\n",
    "    return row_count\n",
    "row_count = births_rows(births)\n",
    "print(row_count)"
   ]
  },
  {
   "cell_type": "code",
   "execution_count": null,
   "metadata": {},
   "outputs": [],
   "source": [
    "exclude_columns = []\n",
    "value_maps = {}\n",
    "\n",
    "#Iteration\n",
    "for column in births.columns:\n",
    "    if column not in exclude_columns:\n",
    "        if np.issubdtype(births[column].dtype, np.number):\n",
    "            continue\n",
    "\n",
    "        #Unique\n",
    "        unique_values = births[column].unique()\n",
    "\n",
    "        value_map = {value: index + 1 for index, value in enumerate(unique_values)}\n",
    "\n",
    "        value_maps[column] = value_map\n",
    "\n",
    "for column, value_map in value_maps.items():\n",
    "    print(f\"Value map for column '{column}':\")\n",
    "    print(value_map)\n",
    "    print()"
   ]
  }
 ],
 "metadata": {
  "kernelspec": {
   "display_name": "base",
   "language": "python",
   "name": "python3"
  },
  "language_info": {
   "codemirror_mode": {
    "name": "ipython",
    "version": 3
   },
   "file_extension": ".py",
   "mimetype": "text/x-python",
   "name": "python",
   "nbconvert_exporter": "python",
   "pygments_lexer": "ipython3",
   "version": "3.10.9"
  },
  "orig_nbformat": 4
 },
 "nbformat": 4,
 "nbformat_minor": 2
}
