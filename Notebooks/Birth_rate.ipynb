{
 "cells": [
  {
   "cell_type": "code",
   "execution_count": null,
   "metadata": {},
   "outputs": [],
   "source": [
    "import pandas as pd\n",
    "import numpy as np\n",
    "import matplotlib.pyplot as plt"
   ]
  },
  {
   "cell_type": "code",
   "execution_count": null,
   "metadata": {},
   "outputs": [],
   "source": [
    "births = pd.read_csv(\"../Data/us_births_2016_2021.csv\")\n",
    "\n",
    "education_level = ['8th grade or less', '9th through 12th grade with no diploma', 'High school graduate or GED completed',\n",
    "                   'Some college credit, but not a degree', 'Associate degree (AA, AS)', \"Bachelor's degree (BA, AB, BS)\", \n",
    "                   \"Master's degree (MA, MS, MEng, MEd, MSW, MBA)\", \n",
    "                   \"Doctorate (PhD, EdD) or Professional Degree (MD, DDS, DVM, LLB, JD)\",\n",
    "                   \"Unknown or Not Stated\"]\n",
    "\n",
    "# Convert indicator names to capitalized form\n",
    "capitalized_education_level = [name.capitalize() for name in education_level]\n",
    "\n",
    "filtered_df = births[births['Education Level of Mother'].isin(capitalized_education_level)]\n",
    "\n",
    "# List of Education to be graphed\n",
    "states = [\"California\", \"Texas\", \"Illinois\", \"Louisana\", \"North Carolina\", \"Connecticut\"]"
   ]
  },
  {
   "cell_type": "code",
   "execution_count": 36,
   "metadata": {},
   "outputs": [
    {
     "name": "stderr",
     "output_type": "stream",
     "text": [
      "C:\\Users\\chris\\AppData\\Local\\Temp\\ipykernel_19816\\3360448889.py:27: FutureWarning: The default value of numeric_only in DataFrameGroupBy.sum is deprecated. In a future version, numeric_only will default to False. Either specify numeric_only or select only columns which should be valid for the function.\n",
      "  grouped_data = state_data.groupby(['Year', 'Education Level of Mother']).sum()\n"
     ]
    },
    {
     "data": {
      "text/plain": [
       "<Figure size 2000x1500 with 0 Axes>"
      ]
     },
     "metadata": {},
     "output_type": "display_data"
    }
   ],
   "source": [
    "import pandas as pd\n",
    "import numpy as np\n",
    "import matplotlib.pyplot as plt\n",
    "import os\n",
    "\n",
    "# Read the data from the CSV file\n",
    "data = pd.read_csv(\"../Data/us_births_2016_2021.csv\")\n",
    "\n",
    "# Define the states for which you want to create the graphs\n",
    "states = [\"California\"]\n",
    "\n",
    "# Specify the directory path for saving the graphs\n",
    "save_directory = \"../img/\"\n",
    "\n",
    "# Create the directory if it doesn't exist\n",
    "os.makedirs(save_directory, exist_ok=True)\n",
    "\n",
    "plt.figure(figsize=(20,15))\n",
    "legend_fontsize = 4\n",
    "\n",
    "# Iterate over each state and create a bar graph\n",
    "for state in states:\n",
    "    # Filter the data for the current state\n",
    "    state_data = data[data['State'] == state]\n",
    "\n",
    "    # Group the data by year and education level of the mother\n",
    "    grouped_data = state_data.groupby(['Year', 'Education Level of Mother']).sum()\n",
    "\n",
    "    # Reset the index to access the grouped columns\n",
    "    grouped_data = grouped_data.reset_index()\n",
    "\n",
    "    # Create the bar graph\n",
    "    fig, ax = plt.subplots()\n",
    "    years = np.arange(2016, 2022)\n",
    "    education_levels = grouped_data['Education Level of Mother'].unique()\n",
    "\n",
    "    # Calculate the width for each bar\n",
    "    bar_width = 0.2\n",
    "    num_bars = len(education_levels)\n",
    "    offset = -(num_bars - 1) / 2 * bar_width\n",
    "\n",
    "    # Plot bars for each education level\n",
    "    for i, education_level in enumerate(education_levels):\n",
    "        values = grouped_data[grouped_data['Education Level of Mother'] == education_level]['Number of Births']\n",
    "        x = years + offset + i * bar_width\n",
    "        ax.bar(x, values, width=bar_width, label=education_level)\n",
    "\n",
    "    ax.set_xlabel('Year')\n",
    "    ax.set_ylabel('Number of Births')\n",
    "    ax.set_title(state)\n",
    "    ax.legend()\n",
    "\n",
    "graphname = f\"{state}_births_graph.png\"\n",
    "\n",
    "save_path = os.path.join(save_directory, graphname)\n",
    "    # # Show or save the graph\n",
    "    #plt.show()  \n",
    "plt.savefig(save_path)  # Save the graph as an image\n",
    "plt.close(fig)  # Close the figure to free up memory\n"
   ]
  },
  {
   "cell_type": "code",
   "execution_count": null,
   "metadata": {},
   "outputs": [],
   "source": [
    "# Loop through each indicator and create a separate graph\n",
    "for education in education_level:\n",
    "    plt.figure(figsize=(10, 6))  # Set the figure size to (10, 6) inches for a larger graph\n",
    "\n",
    "    # Filter data for the specific indicator\n",
    "    education_data = filtered_df[filtered_df['Education Level of Mother'] == education]\n",
    "\n",
    "    for state in states:\n",
    "        # Filter data for the specific country\n",
    "        state_data = education_data[education_data['State'] == state]\n",
    "\n",
    "        years = education_data.columns[2:]  # Assuming the year columns start from the 5th column\n",
    "\n",
    "        # Extract the values for the specific country and indicator\n",
    "        values = education_data.iloc[0, 2:].values\n",
    "        values = [v if pd.notnull(v) else np.nan for v in values]  # Replace empty cells with NaN\n",
    "\n",
    "        # Plot the values\n",
    "        plt.plot(years, values, label=education)"
   ]
  },
  {
   "cell_type": "code",
   "execution_count": null,
   "metadata": {},
   "outputs": [],
   "source": [
    "def births_rows(births):\n",
    "    row_count = births.shape[0]\n",
    "    \"\"\"\n",
    "    returns a single number\n",
    "    \"\"\"\n",
    "    return row_count\n",
    "row_count = births_rows(births)\n",
    "print(row_count)"
   ]
  },
  {
   "cell_type": "code",
   "execution_count": null,
   "metadata": {},
   "outputs": [],
   "source": [
    "exclude_columns = []\n",
    "value_maps = {}\n",
    "\n",
    "#Iteration\n",
    "for column in births.columns:\n",
    "    if column not in exclude_columns:\n",
    "        if np.issubdtype(births[column].dtype, np.number):\n",
    "            continue\n",
    "\n",
    "        #Unique\n",
    "        unique_values = births[column].unique()\n",
    "\n",
    "        value_map = {value: index + 1 for index, value in enumerate(unique_values)}\n",
    "\n",
    "        value_maps[column] = value_map\n",
    "\n",
    "for column, value_map in value_maps.items():\n",
    "    print(f\"Value map for column '{column}':\")\n",
    "    print(value_map)\n",
    "    print()"
   ]
  }
 ],
 "metadata": {
  "kernelspec": {
   "display_name": "base",
   "language": "python",
   "name": "python3"
  },
  "language_info": {
   "codemirror_mode": {
    "name": "ipython",
    "version": 3
   },
   "file_extension": ".py",
   "mimetype": "text/x-python",
   "name": "python",
   "nbconvert_exporter": "python",
   "pygments_lexer": "ipython3",
   "version": "3.10.9"
  },
  "orig_nbformat": 4
 },
 "nbformat": 4,
 "nbformat_minor": 2
}
