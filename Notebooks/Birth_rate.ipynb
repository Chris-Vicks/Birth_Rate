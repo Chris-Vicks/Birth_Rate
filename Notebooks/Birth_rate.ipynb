{
 "cells": [
  {
   "cell_type": "code",
   "execution_count": 1,
   "metadata": {},
   "outputs": [],
   "source": [
    "import pandas as pd\n",
    "import numpy as np\n"
   ]
  },
  {
   "cell_type": "code",
   "execution_count": 2,
   "metadata": {},
   "outputs": [],
   "source": [
    "births = pd.read_csv(\"../Data/us_births_2016_2021.csv\")"
   ]
  },
  {
   "cell_type": "code",
   "execution_count": 3,
   "metadata": {},
   "outputs": [
    {
     "name": "stdout",
     "output_type": "stream",
     "text": [
      "5496\n"
     ]
    }
   ],
   "source": [
    "def births_rows(births):\n",
    "    row_count = births.shape[0]\n",
    "    \"\"\"\n",
    "    returns a single number\n",
    "    \"\"\"\n",
    "    return row_count\n",
    "row_count = births_rows(births)\n",
    "print(row_count)"
   ]
  },
  {
   "cell_type": "code",
   "execution_count": 7,
   "metadata": {},
   "outputs": [
    {
     "name": "stdout",
     "output_type": "stream",
     "text": [
      "Value map for column 'State':\n",
      "{'Alabama': 1, 'Alaska': 2, 'Arizona': 3, 'Arkansas': 4, 'California': 5, 'Colorado': 6, 'Connecticut': 7, 'Delaware': 8, 'District of Columbia': 9, 'Florida': 10, 'Georgia': 11, 'Hawaii': 12, 'Idaho': 13, 'Illinois': 14, 'Indiana': 15, 'Iowa': 16, 'Kansas': 17, 'Kentucky': 18, 'Louisiana': 19, 'Maine': 20, 'Maryland': 21, 'Massachusetts': 22, 'Michigan': 23, 'Minnesota': 24, 'Mississippi': 25, 'Missouri': 26, 'Montana': 27, 'Nebraska': 28, 'Nevada': 29, 'New Hampshire': 30, 'New Jersey': 31, 'New Mexico': 32, 'New York': 33, 'North Carolina': 34, 'North Dakota': 35, 'Ohio': 36, 'Oklahoma': 37, 'Oregon': 38, 'Pennsylvania': 39, 'Rhode Island': 40, 'South Carolina': 41, 'South Dakota': 42, 'Tennessee': 43, 'Texas': 44, 'Utah': 45, 'Vermont': 46, 'Virginia': 47, 'Washington': 48, 'West Virginia': 49, 'Wisconsin': 50, 'Wyoming': 51}\n",
      "\n",
      "Value map for column 'State Abbreviation':\n",
      "{'AL': 1, 'AK': 2, 'AZ': 3, 'AR': 4, 'CA': 5, 'CO': 6, 'CT': 7, 'DE': 8, 'DC': 9, 'FL': 10, 'GA': 11, 'HI': 12, 'ID': 13, 'IL': 14, 'IN': 15, 'IA': 16, 'KS': 17, 'KY': 18, 'LA': 19, 'ME': 20, 'MD': 21, 'MA': 22, 'MI': 23, 'MN': 24, 'MS': 25, 'MO': 26, 'MT': 27, 'NE': 28, 'NV': 29, 'NH': 30, 'NJ': 31, 'NM': 32, 'NY': 33, 'NC': 34, 'ND': 35, 'OH': 36, 'OK': 37, 'OR': 38, 'PA': 39, 'RI': 40, 'SC': 41, 'SD': 42, 'TN': 43, 'TX': 44, 'UT': 45, 'VT': 46, 'VA': 47, 'WA': 48, 'WV': 49, 'WI': 50, 'WY': 51}\n",
      "\n",
      "Value map for column 'Gender':\n",
      "{'F': 1, 'M': 2}\n",
      "\n",
      "Value map for column 'Education Level of Mother':\n",
      "{'8th grade or less': 1, '9th through 12th grade with no diploma': 2, 'High school graduate or GED completed': 3, 'Some college credit, but not a degree': 4, 'Associate degree (AA, AS)': 5, \"Bachelor's degree (BA, AB, BS)\": 6, \"Master's degree (MA, MS, MEng, MEd, MSW, MBA)\": 7, 'Doctorate (PhD, EdD) or Professional Degree (MD, DDS, DVM, LLB, JD)': 8, 'Unknown or Not Stated': 9}\n",
      "\n"
     ]
    }
   ],
   "source": [
    "exclude_columns = []\n",
    "value_maps = {}\n",
    "\n",
    "#Iteration\n",
    "for column in births.columns:\n",
    "    if column not in exclude_columns:\n",
    "        if np.issubdtype(births[column].dtype, np.number):\n",
    "            continue\n",
    "\n",
    "        #Unique\n",
    "        unique_values = births[column].unique()\n",
    "\n",
    "        value_map = {value: index + 1 for index, value in enumerate(unique_values)}\n",
    "\n",
    "        value_maps[column] = value_map\n",
    "\n",
    "for column, value_map in value_maps.items():\n",
    "    print(f\"Value map for column '{column}':\")\n",
    "    print(value_map)\n",
    "    print()"
   ]
  }
 ],
 "metadata": {
  "kernelspec": {
   "display_name": "base",
   "language": "python",
   "name": "python3"
  },
  "language_info": {
   "codemirror_mode": {
    "name": "ipython",
    "version": 3
   },
   "file_extension": ".py",
   "mimetype": "text/x-python",
   "name": "python",
   "nbconvert_exporter": "python",
   "pygments_lexer": "ipython3",
   "version": "3.10.9"
  },
  "orig_nbformat": 4
 },
 "nbformat": 4,
 "nbformat_minor": 2
}
